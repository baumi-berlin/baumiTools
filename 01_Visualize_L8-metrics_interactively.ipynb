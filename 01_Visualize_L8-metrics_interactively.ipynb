{
 "cells": [
  {
   "cell_type": "markdown",
   "metadata": {},
   "source": [
    "# Import Python modules & Initialize Earth Engine\n",
    "#### Input from *fitoprincipe* @ github\n",
    "https://github.com/baumi-berlin/ee-jupyter-contrib/blob/master/examples/getting-started/display-interactive-map.ipynb"
   ]
  },
  {
   "cell_type": "code",
   "execution_count": 13,
   "metadata": {},
   "outputs": [],
   "source": [
    "import ee  # the Earth Engine Python API library\n",
    "ee.Initialize()\n",
    "import ipyleaflet  # an interactive mapping \"widget\" for the notebook\n",
    "from baumiTools import baumiEE, baumiVT\n",
    "import json"
   ]
  },
  {
   "cell_type": "markdown",
   "metadata": {},
   "source": [
    "# Load a polygon shapefile for the extent (does not work yet)\n",
    "here, we load a shapefile for the extent that we want to process only. This reduces computional time, and also will directly zoom to the location we are working. Test-case is a tile in the Chaco"
   ]
  },
  {
   "cell_type": "code",
   "execution_count": 8,
   "metadata": {},
   "outputs": [],
   "source": [
    "shp = baumiVT.CopyToMem(\"C:/Miniconda3/envs/py37/Lib/site-packages/baumiTools/geeTools/Chiqui_Outline.shp\")\n",
    "lyr = shp.GetLayer()\n",
    "featList = []\n",
    "feat = lyr.GetNextFeature()\n",
    "geom = feat.GetGeometryRef()\n",
    "geom_json = json.loads(geom.ExportToJson())\n",
    "geom_coord = geom_json['coordinates']\n",
    "geom_EE = ee.Geometry.Polygon(coords=geom_coord)\n",
    "lyr.ResetReading()"
   ]
  },
  {
   "cell_type": "markdown",
   "metadata": {},
   "source": [
    "# Define the composite/metric we want to look at"
   ]
  },
  {
   "cell_type": "code",
   "execution_count": 26,
   "metadata": {},
   "outputs": [
    {
     "data": {
      "text/plain": [
       "['B_2019-01-03',\n",
       " 'G_2019-01-03',\n",
       " 'R_2019-01-03',\n",
       " 'NIR_2019-01-03',\n",
       " 'SWIR1_2019-01-03',\n",
       " 'SWIR2_2019-01-03']"
      ]
     },
     "execution_count": 26,
     "metadata": {},
     "output_type": "execute_result"
    }
   ],
   "source": [
    "median = baumiEE.Calculate_Seasonal_Median(year=2019, startMonth=1, endMonth=3)#, roi=geom_EE)# additional arguments: roi=feat_EE or path=227, row=28\n",
    "#for win in [[4,6], [7,9],[10,12]]:\n",
    "#    median = median.addBands(baumiEE.Calculate_Seasonal_Median(year=2018, startMonth=win[0], endMonth=win[1]))\n",
    "bandNames = median.bandNames()\n",
    "bandNames.getInfo()"
   ]
  },
  {
   "cell_type": "markdown",
   "metadata": {},
   "source": [
    "# Display a Dynamic Map\n",
    "To display an Earth Engine generated tiles on the interactive map, we will use ipyleaflet's TileLayer object. First we start by defining a function that can generate a tile layer URL from an Earth Engine image object."
   ]
  },
  {
   "cell_type": "code",
   "execution_count": 16,
   "metadata": {},
   "outputs": [],
   "source": [
    "def GetTileLayerUrl(ee_image_object):\n",
    "  map_id = ee.Image(ee_image_object).getMapId()\n",
    "  tile_url_template = \"https://earthengine.googleapis.com/map/{mapid}/{{z}}/{{x}}/{{y}}?token={token}\"\n",
    "  return tile_url_template.format(**map_id)"
   ]
  },
  {
   "cell_type": "code",
   "execution_count": 27,
   "metadata": {},
   "outputs": [
    {
     "data": {
      "application/vnd.jupyter.widget-view+json": {
       "model_id": "f022c27c53084cc0b0ad359ced1d52d4",
       "version_major": 2,
       "version_minor": 0
      },
      "text/plain": [
       "Map(center=[-14.438411, -63.743799], controls=(ZoomControl(options=['position', 'zoom_in_text', 'zoom_in_title…"
      ]
     },
     "metadata": {},
     "output_type": "display_data"
    }
   ],
   "source": [
    "map1 = ipyleaflet.Map(center=(-14.438411, -63.743799), zoom=4,\n",
    "                      layout={'height':'600px'},\n",
    "                      scroll_wheel_zoom=True)\n",
    "map1.add_layer(ipyleaflet.TileLayer(url=GetTileLayerUrl(\n",
    "    median.visualize(min=0, max=8000, gamma=1.5,\n",
    "                     bands= ['NIR_2019-01-03', 'SWIR1_2019-01-03', 'R_2019-01-03']))))\n",
    "map1"
   ]
  },
  {
   "cell_type": "code",
   "execution_count": null,
   "metadata": {},
   "outputs": [],
   "source": []
  }
 ],
 "metadata": {
  "kernelspec": {
   "display_name": "Python 3",
   "language": "python",
   "name": "python3"
  },
  "language_info": {
   "codemirror_mode": {
    "name": "ipython",
    "version": 3
   },
   "file_extension": ".py",
   "mimetype": "text/x-python",
   "name": "python",
   "nbconvert_exporter": "python",
   "pygments_lexer": "ipython3",
   "version": "3.7.5"
  }
 },
 "nbformat": 4,
 "nbformat_minor": 2
}
