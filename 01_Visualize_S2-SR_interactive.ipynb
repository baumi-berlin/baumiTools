{
 "cells": [
  {
   "cell_type": "markdown",
   "metadata": {},
   "source": [
    "# Import Python modules & Initialize Earth Engine\n",
    "#### Input from *fitoprincipe* @ github\n",
    "https://github.com/baumi-berlin/ee-jupyter-contrib/blob/master/examples/getting-started/display-interactive-map.ipynb"
   ]
  },
  {
   "cell_type": "code",
   "execution_count": 1,
   "metadata": {},
   "outputs": [],
   "source": [
    "import ee  # the Earth Engine Python API library\n",
    "ee.Initialize()\n",
    "import ipyleaflet  # an interactive mapping \"widget\" for the notebook\n",
    "from baumiTools import baumiEE"
   ]
  },
  {
   "cell_type": "markdown",
   "metadata": {},
   "source": [
    "# Load a polygon shapefile for the extent (optional)\n",
    "here, we load a shapefile for the extent that we want to process only. This reduces computional time, and also will directly zoom to the location we are working. Test-case is a tile in the Chaco"
   ]
  },
  {
   "cell_type": "code",
   "execution_count": null,
   "metadata": {},
   "outputs": [],
   "source": []
  },
  {
   "cell_type": "markdown",
   "metadata": {},
   "source": [
    "# Define the composite/metric we want to look at"
   ]
  },
  {
   "cell_type": "code",
   "execution_count": null,
   "metadata": {},
   "outputs": [],
   "source": [
    "test = baumiEE.Calculate_Seasonal_Median(year=2019, startMonth=1, endMonth=3)"
   ]
  },
  {
   "cell_type": "markdown",
   "metadata": {},
   "source": [
    "# Display a Dynamic Map\n",
    "To display an Earth Engine generated tiles on the interactive map, we will use ipyleaflet's TileLayer object. First we start by defining a function that can generate a tile layer URL from an Earth Engine image object."
   ]
  },
  {
   "cell_type": "code",
   "execution_count": 3,
   "metadata": {},
   "outputs": [],
   "source": [
    "def GetTileLayerUrl(ee_image_object):\n",
    "  map_id = ee.Image(ee_image_object).getMapId()\n",
    "  tile_url_template = \"https://earthengine.googleapis.com/map/{mapid}/{{z}}/{{x}}/{{y}}?token={token}\"\n",
    "  return tile_url_template.format(**map_id)"
   ]
  },
  {
   "cell_type": "code",
   "execution_count": 5,
   "metadata": {},
   "outputs": [
    {
     "data": {
      "application/vnd.jupyter.widget-view+json": {
       "model_id": "012c52b278d0421fb0fb0a9655d1933e",
       "version_major": 2,
       "version_minor": 0
      },
      "text/plain": [
       "Map(center=[48.2082, 16.3779], controls=(ZoomControl(options=['position', 'zoom_in_text', 'zoom_in_title', 'zo…"
      ]
     },
     "metadata": {},
     "output_type": "display_data"
    }
   ],
   "source": [
    "map1 = ipyleaflet.Map(\n",
    "    center=(48.2082, 16.3779), zoom=4,\n",
    "    layout={'height':'600px'},\n",
    "    scroll_wheel_zoom=True\n",
    ")\n",
    "map1.add_layer(\n",
    "    ipyleaflet.TileLayer(url=GetTileLayerUrl(\n",
    "        test.visualize(min=0, max=10000, gamma=1.5, bands= ['NIR_median', 'SWIR1_median', 'R_median'])\n",
    "    )\n",
    "))\n",
    "map1"
   ]
  },
  {
   "cell_type": "code",
   "execution_count": null,
   "metadata": {},
   "outputs": [],
   "source": []
  }
 ],
 "metadata": {
  "kernelspec": {
   "display_name": "Python 3",
   "language": "python",
   "name": "python3"
  },
  "language_info": {
   "codemirror_mode": {
    "name": "ipython",
    "version": 3
   },
   "file_extension": ".py",
   "mimetype": "text/x-python",
   "name": "python",
   "nbconvert_exporter": "python",
   "pygments_lexer": "ipython3",
   "version": "3.7.5"
  }
 },
 "nbformat": 4,
 "nbformat_minor": 2
}
