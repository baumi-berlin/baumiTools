{
 "cells": [
  {
   "cell_type": "markdown",
   "metadata": {},
   "source": [
    "# Extract spectral-temporal metrics at point-locations from SHP-File\n",
    "#### Input from Julian Oeser\n",
    "\n",
    "### Current staus: calculates classification, and visualizes it. Next steps include:\n",
    "* Limited to small scale of trianing data - solve through tiling the study area and do sampleRegion per tile (and merge the featurecollections afterwards)\n",
    "* Do this for multiple years - \"time-calibrated\"\n",
    "* make the export of the classifications automated per tile"
   ]
  },
  {
   "cell_type": "code",
   "execution_count": null,
   "metadata": {},
   "outputs": [],
   "source": [
    "import ee  # the Earth Engine Python API library\n",
    "ee.Initialize()\n",
    "import ipyleaflet  # an interactive mapping \"widget\" for the notebook\n",
    "from baumiTools import baumiEE, baumiVT\n",
    "import json\n",
    "import ogr, osr\n",
    "import os\n",
    "import pandas as pd"
   ]
  },
  {
   "cell_type": "markdown",
   "metadata": {},
   "source": [
    "## Load a point-shapefile, convert it into feature collection\n",
    "here, we load a shapefile with the points (e.g., from training data) for which we want to extrac the spectral-temporal features from GEE."
   ]
  },
  {
   "cell_type": "code",
   "execution_count": null,
   "metadata": {},
   "outputs": [],
   "source": [
    "shp = baumiVT.CopyToMem(\"C:/Miniconda3/envs/py37/Lib/site-packages/baumiTools/geeTools/_OtherSources/_Julian/training_data/training_points_testSub3.shp\")\n",
    "#tempFolder = \"G:/Baumann/temp/\"\n",
    "field = \"id\"\n",
    "clasLabel = \"wetland\"\n",
    "yrField = \"Year\"\n",
    "\n",
    "fc = Convert_SHP_to_FC(shp.GetLayer(), field, clasLabel)"
   ]
  },
  {
   "cell_type": "code",
   "execution_count": null,
   "metadata": {},
   "outputs": [],
   "source": [
    "# Remember: has to be named class because the function Convert_SHP_to_FC has this as the classification label\n",
    "wetland = fc.filter(ee.Filter.eq('Class',1))\n",
    "other = fc.filter(ee.Filter.eq('Class',0))"
   ]
  },
  {
   "cell_type": "code",
   "execution_count": null,
   "metadata": {},
   "outputs": [],
   "source": [
    "# test 228077\n",
    "median_L8 = baumiEE.Calculate_Landsat_Seasonal_Median(year=2019, startMonth=1, endMonth=3, path=228, row=77)#, roi=geom_EE)# additional arguments: roi=feat_EE or path=227, row=28\n",
    "for win in [[4,6], [7,9],[10,12]]:\n",
    "    median_L8 = median_L8.addBands(baumiEE.Calculate_Landsat_Seasonal_Median(year=2019, startMonth=win[0], endMonth=win[1], path=228, row=77))"
   ]
  },
  {
   "cell_type": "code",
   "execution_count": null,
   "metadata": {},
   "outputs": [],
   "source": [
    "#trainingSample = median_L8.sampleRegions(fc,[\"wetland\"],100)\n",
    "#trainingSample\n",
    "trainingSample = median_L8.sampleRegions(\n",
    "  collection = fc,\n",
    "  properties = ['Class'],\n",
    "  scale = 30,\n",
    "  tileScale = 2\n",
    "    \n",
    ")\n",
    "trainingSample.getInfo()"
   ]
  },
  {
   "cell_type": "code",
   "execution_count": null,
   "metadata": {},
   "outputs": [],
   "source": [
    "bandNames = median_L8.bandNames()\n",
    "classifier = ee.Classifier.randomForest(100,0).setOutputMode('PROBABILITY').train(trainingSample,'Class',bandNames)\n",
    "classification = median_L8.classify(classifier)#.multiply(100)\n",
    "bandNames.getInfo()"
   ]
  },
  {
   "cell_type": "code",
   "execution_count": null,
   "metadata": {},
   "outputs": [],
   "source": [
    "def GetTileLayerUrl(ee_image_object):\n",
    "  map_id = ee.Image(ee_image_object).getMapId()\n",
    "  tile_url_template = \"https://earthengine.googleapis.com/map/{mapid}/{{z}}/{{x}}/{{y}}?token={token}\"\n",
    "  return tile_url_template.format(**map_id)\n",
    "\n",
    "Map = ipyleaflet.Map(center=(-14.438411, -63.743799), zoom=4,\n",
    "                      layout={'height':'600px'},\n",
    "                      scroll_wheel_zoom=True)\n",
    "classific = ipyleaflet.TileLayer(name=\"classification\", url=GetTileLayerUrl(\n",
    "    classification.visualize(min=0, max=1, gamma=1.5)))\n",
    "Landsat8 = ipyleaflet.TileLayer(name=\"Landsat8\", url=GetTileLayerUrl(\n",
    "    median_L8.visualize(min=0, max=8000, gamma=1.5,bands= ['NIR_2019-01-03', 'SWIR1_2019-01-03', 'R_2019-01-03'])))\n",
    "\n",
    "Map.add_layer(Landsat8)\n",
    "Map.add_layer(classific)\n",
    "\n",
    "Map.add_control(ipyleaflet.LayersControl(position='topright'))\n",
    "\n",
    "Map"
   ]
  },
  {
   "cell_type": "code",
   "execution_count": null,
   "metadata": {},
   "outputs": [],
   "source": []
  }
 ],
 "metadata": {
  "kernelspec": {
   "display_name": "Python 3",
   "language": "python",
   "name": "python3"
  },
  "language_info": {
   "codemirror_mode": {
    "name": "ipython",
    "version": 3
   },
   "file_extension": ".py",
   "mimetype": "text/x-python",
   "name": "python",
   "nbconvert_exporter": "python",
   "pygments_lexer": "ipython3",
   "version": "3.7.5"
  }
 },
 "nbformat": 4,
 "nbformat_minor": 2
}
