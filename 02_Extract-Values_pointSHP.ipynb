{
 "cells": [
  {
   "cell_type": "markdown",
   "metadata": {},
   "source": [
    "# Extract spectral-temporal metrics at point-locations from SHP-File\n",
    "#### Input from Julian Oeser\n",
    "https://github.com/baumi-berlin/ee-jupyter-contrib/blob/master/examples/getting-started/display-interactive-map.ipynb"
   ]
  },
  {
   "cell_type": "code",
   "execution_count": 1,
   "metadata": {},
   "outputs": [],
   "source": [
    "import ee  # the Earth Engine Python API library\n",
    "ee.Initialize()\n",
    "import ipyleaflet  # an interactive mapping \"widget\" for the notebook\n",
    "from baumiTools import baumiEE, baumiVT\n",
    "import json\n",
    "import ogr, osr\n",
    "import os\n",
    "import pandas as pd"
   ]
  },
  {
   "cell_type": "markdown",
   "metadata": {},
   "source": [
    "## Load a point-shapefile, convert it into feature collection\n",
    "here, we load a shapefile with the points (e.g., from training data) for which we want to extrac the spectral-temporal features from GEE."
   ]
  },
  {
   "cell_type": "code",
   "execution_count": 2,
   "metadata": {},
   "outputs": [],
   "source": [
    "shp = baumiVT.CopyToMem(\"C:/Miniconda3/envs/py37/Lib/site-packages/baumiTools/geeTools/_OtherSources/_Julian/training_data/training_points.shp\")\n",
    "#tempFolder = \"G:/Baumann/temp/\"\n",
    "output = \"D:/output.csv\"\n",
    "field = \"ID\"\n",
    "chunkSize = 100"
   ]
  },
  {
   "cell_type": "code",
   "execution_count": 3,
   "metadata": {},
   "outputs": [],
   "source": [
    "lyr = shp.GetLayer()\n",
    "def chunks(l, n):\n",
    "    \"\"\"Yield successive n-sized chunks from l.\"\"\"\n",
    "    for i in range(0, len(l), n):\n",
    "        yield l[i:i + n]\n",
    "idLists = list(chunks(range(1, lyr.GetFeatureCount()), chunkSize))"
   ]
  },
  {
   "cell_type": "code",
   "execution_count": null,
   "metadata": {},
   "outputs": [],
   "source": []
  }
 ],
 "metadata": {
  "kernelspec": {
   "display_name": "Python 3",
   "language": "python",
   "name": "python3"
  },
  "language_info": {
   "codemirror_mode": {
    "name": "ipython",
    "version": 3
   },
   "file_extension": ".py",
   "mimetype": "text/x-python",
   "name": "python",
   "nbconvert_exporter": "python",
   "pygments_lexer": "ipython3",
   "version": "3.7.5"
  }
 },
 "nbformat": 4,
 "nbformat_minor": 2
}
